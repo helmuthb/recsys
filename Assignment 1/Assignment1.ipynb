{
 "cells": [
  {
   "cell_type": "markdown",
   "metadata": {},
   "source": [
    "---"
   ]
  },
  {
   "cell_type": "markdown",
   "metadata": {
    "deletable": false,
    "editable": false,
    "nbgrader": {
     "checksum": "e72e448eae644e021658d29d08123de8",
     "grade": false,
     "grade_id": "cell-1b77a17f49ad3b84",
     "locked": true,
     "schema_version": 1,
     "solution": false
    }
   },
   "source": [
    "# Assignment 1\n",
    "Welcome to the first assignment! Here you will implement User-User Collaborative Filtering. We will use the MovieLens 20M dataset.\n",
    "\n",
    "You will write and execute your code in Python using this Jupyter Notebook.\n",
    "\n",
    "**PREREQUISITE:** Download the MovieLens 20M dataset from <https://grouplens.org/datasets/movielens/20m/>. Extract the contents and look up `ratings.csv`, which is what we'll be working with.\n",
    "\n",
    "**TASK:** Your job is to *fill in the missing code* only. The place to enter your code is clearly marked with comments.\n",
    "\n",
    "**SUBMISSION:** You will submit this Notebook via TUWEL (wihtout the movielens folder!).\n",
    "\n",
    "**GRADING:** We will test whether your code produces the expected output. Therefore hidden tests will compare results of the standard solution with yours (based on the whole dataset - multiple, randomly selected inputs - accuracy of the sulution must be within two decimal places). **Important!** Remove the command \"ratings_raw = pd.read_csv(SOME LOCATION OF YOUR CHOICE)\" before submitting.\n",
    "\n",
    "Note that there is a variable `DEBUG` set to `True` for debugging/testing purposes. This creates a small, more manageable subset of the data to work with."
   ]
  },
  {
   "cell_type": "markdown",
   "metadata": {
    "deletable": false,
    "editable": false,
    "nbgrader": {
     "checksum": "0d6d2d49b9c4adace21960e7a2e1a506",
     "grade": false,
     "grade_id": "cell-6fd72fd060475aee",
     "locked": true,
     "schema_version": 1,
     "solution": false
    }
   },
   "source": [
    "## Preparation"
   ]
  },
  {
   "cell_type": "markdown",
   "metadata": {
    "deletable": false,
    "editable": false,
    "nbgrader": {
     "checksum": "0af888df1fd588ac78b1ba18f8f7eead",
     "grade": false,
     "grade_id": "cell-f5c0b4acbd7f5bf6",
     "locked": true,
     "schema_version": 1,
     "solution": false
    }
   },
   "source": [
    "### Import modules\n",
    "Import python modules we will be using. Generally you should not import additional modules."
   ]
  },
  {
   "cell_type": "code",
   "execution_count": null,
   "metadata": {
    "deletable": false,
    "editable": false,
    "nbgrader": {
     "checksum": "a812a12a7c3f1297d2df8629bec8f202",
     "grade": false,
     "grade_id": "cell-39505ec63194a941",
     "locked": true,
     "schema_version": 1,
     "solution": false
    }
   },
   "outputs": [],
   "source": [
    "import csv\n",
    "import pandas as pd\n",
    "import numpy as np\n",
    "from scipy import sparse as sp\n",
    "from scipy.sparse.linalg import norm\n",
    "import sklearn.preprocessing as pp"
   ]
  },
  {
   "cell_type": "markdown",
   "metadata": {
    "deletable": false,
    "editable": false,
    "nbgrader": {
     "checksum": "85ebef54f209b55e9dd7a54eff07ea5b",
     "grade": false,
     "grade_id": "cell-7f94d267382ef3de",
     "locked": true,
     "schema_version": 1,
     "solution": false
    }
   },
   "source": [
    "Set some formatting options."
   ]
  },
  {
   "cell_type": "code",
   "execution_count": null,
   "metadata": {
    "deletable": false,
    "editable": false,
    "nbgrader": {
     "checksum": "3413da986f97320ad649dcf4ea5ec963",
     "grade": false,
     "grade_id": "cell-bc5e1a6bf4d07786",
     "locked": true,
     "schema_version": 1,
     "solution": false
    }
   },
   "outputs": [],
   "source": [
    "np.set_printoptions(threshold=500, precision=4)\n",
    "pd.options.display.max_seq_items = 100"
   ]
  },
  {
   "cell_type": "markdown",
   "metadata": {
    "deletable": false,
    "editable": false,
    "nbgrader": {
     "checksum": "c46b514928d03a0644484fd5bb60cad7",
     "grade": false,
     "grade_id": "cell-004865cf50a278ac",
     "locked": true,
     "schema_version": 1,
     "solution": false
    }
   },
   "source": [
    "### Read the data\n",
    "Load data from csv file `ratings.csv`. The result is stored in a `pandas.DataFrame` called `ratings_raw`."
   ]
  },
  {
   "cell_type": "code",
   "execution_count": null,
   "metadata": {},
   "outputs": [],
   "source": [
    "# ratings_raw = pd.read_csv(SOME LOCATION OF YOUR CHOICE) #REMOVE this command before submitting"
   ]
  },
  {
   "cell_type": "markdown",
   "metadata": {
    "deletable": false,
    "editable": false,
    "nbgrader": {
     "checksum": "d88cd74065a8929d85fa1fed29599115",
     "grade": false,
     "grade_id": "cell-738b45c5f4b259eb",
     "locked": true,
     "schema_version": 1,
     "solution": false
    }
   },
   "source": [
    "### Truncate the data\n",
    "\n",
    "For debugging, let's work with a *truncated* version of the data, containing up to 10000 users and 1000 movies. "
   ]
  },
  {
   "cell_type": "code",
   "execution_count": null,
   "metadata": {},
   "outputs": [],
   "source": [
    "DEBUG = True"
   ]
  },
  {
   "cell_type": "code",
   "execution_count": null,
   "metadata": {
    "deletable": false,
    "editable": false,
    "nbgrader": {
     "checksum": "1a4921305e54b37aeed2b4ee5e99f372",
     "grade": true,
     "grade_id": "read_files",
     "locked": true,
     "points": 0,
     "schema_version": 1,
     "solution": false
    }
   },
   "outputs": [],
   "source": []
  },
  {
   "cell_type": "code",
   "execution_count": null,
   "metadata": {
    "deletable": false,
    "editable": false,
    "nbgrader": {
     "checksum": "37b2a84384469a5d0636d57474493469",
     "grade": false,
     "grade_id": "cell-39411e9d62029d05",
     "locked": true,
     "schema_version": 1,
     "solution": false
    }
   },
   "outputs": [],
   "source": [
    "if DEBUG: \n",
    "    ratings_raw = ratings_raw[ (ratings_raw['userId'] < 10000) & (ratings_raw['movieId'] < 1000) ]"
   ]
  },
  {
   "cell_type": "markdown",
   "metadata": {
    "deletable": false,
    "editable": false,
    "nbgrader": {
     "checksum": "d630cc58ebba6bb849fbfe234221e76c",
     "grade": false,
     "grade_id": "cell-85dd8323711bdc6d",
     "locked": true,
     "schema_version": 1,
     "solution": false
    }
   },
   "source": [
    "Let's see how the data looks like."
   ]
  },
  {
   "cell_type": "code",
   "execution_count": null,
   "metadata": {
    "deletable": false,
    "editable": false,
    "nbgrader": {
     "checksum": "f43efd9b7dd5c81767e6e82b096150a4",
     "grade": false,
     "grade_id": "cell-4eb320886ccf1bec",
     "locked": true,
     "schema_version": 1,
     "solution": false
    }
   },
   "outputs": [],
   "source": [
    "display(ratings_raw.head())"
   ]
  },
  {
   "cell_type": "markdown",
   "metadata": {
    "deletable": false,
    "editable": false,
    "nbgrader": {
     "checksum": "c86c7cc36506f055466d97ac48dac92f",
     "grade": false,
     "grade_id": "cell-0907e6dd1eadf9e3",
     "locked": true,
     "schema_version": 1,
     "solution": false
    }
   },
   "source": [
    "### Preprocess the data\n",
    "Make sure that movies and users have consecutive indexes starting from 0. Also drop the timestamp column.\n",
    "\n",
    "The resulting \"cleaned\" data are stored in `ratings`."
   ]
  },
  {
   "cell_type": "code",
   "execution_count": null,
   "metadata": {
    "deletable": false,
    "editable": false,
    "nbgrader": {
     "checksum": "e5647595271f0d09b6c2e4550059300b",
     "grade": false,
     "grade_id": "cell-e477abc50954e513",
     "locked": true,
     "schema_version": 1,
     "solution": false
    }
   },
   "outputs": [],
   "source": [
    "movieIds = ratings_raw.movieId.unique()\n",
    "movieIds.sort()\n",
    "userIds = ratings_raw.userId.unique()\n",
    "userIds.sort()\n",
    "\n",
    "m = userIds.size\n",
    "n = movieIds.size\n",
    "numRatings = len(ratings_raw)\n",
    "\n",
    "print (\"There are\", m, \"users,\", n, \"items and\", numRatings, \"ratings.\")\n",
    "\n",
    "\n",
    "## movies and users should have consecutive indexes starting from 0\n",
    "movieId_to_movieIDX = dict(zip(movieIds, range(0, movieIds.size)))\n",
    "movieIDX_to_movieId = dict(zip(range(0, movieIds.size), movieIds))\n",
    "\n",
    "userId_to_userIDX = dict(zip(userIds, range(0, userIds.size )))\n",
    "userIDX_to_userId = dict(zip(range(0, userIds.size), userIds))\n",
    "\n",
    "## drop timestamps\n",
    "ratings = pd.concat([ratings_raw['userId'].map(userId_to_userIDX), ratings_raw['movieId'].map(movieId_to_movieIDX), ratings_raw['rating']], axis=1)\n",
    "ratings.columns = ['user', 'item', 'rating']\n",
    "\n",
    "display(ratings.head())"
   ]
  },
  {
   "cell_type": "markdown",
   "metadata": {
    "deletable": false,
    "editable": false,
    "nbgrader": {
     "checksum": "8db27745eff0843ac7a70cf39ca4407d",
     "grade": false,
     "grade_id": "cell-af1cacd1caf92af4",
     "locked": true,
     "schema_version": 1,
     "solution": false
    }
   },
   "source": [
    "### Create the Ratings Matrix\n",
    "\n",
    "We will convert the `ratings` `DataFrame` into a **Ratings Matrix**. Because it is very sparse, we will use the `scipy.sparse` module to efficiently store and access it.\n",
    "\n",
    "Specifically, we will create two versions of the same ratings matrix:\n",
    "- `R` is our basic matrix and is optimized for dot products, which will be useful when computing user-user similarities; `R` is stored in the Compressed Sparse Row format (`csr_matrix`).\n",
    "- `R_dok` is a different view of the ratings matrix, which allows to quickly test whether a user-item rating exists; `R_dok` is stored in the Dictionary Of Keys format (`dok_matrix`)."
   ]
  },
  {
   "cell_type": "code",
   "execution_count": null,
   "metadata": {
    "deletable": false,
    "editable": false,
    "nbgrader": {
     "checksum": "f6eefd2367bceca6c702eb92161c0868",
     "grade": false,
     "grade_id": "cell-bb736f4ed565f8aa",
     "locked": true,
     "schema_version": 1,
     "solution": false
    }
   },
   "outputs": [],
   "source": [
    "R = sp.csr_matrix((ratings.rating, (ratings.user, ratings.item)))\n",
    "R_dok = R.todok()"
   ]
  },
  {
   "cell_type": "code",
   "execution_count": null,
   "metadata": {
    "deletable": false,
    "editable": false,
    "nbgrader": {
     "checksum": "0c317c636bd313b16845ae9483ac7b20",
     "grade": false,
     "grade_id": "cell-ad201b0e0982d15c",
     "locked": true,
     "schema_version": 1,
     "solution": false
    }
   },
   "outputs": [],
   "source": [
    "m = R.shape[0]\n",
    "n = R.shape[1]\n",
    "numRatings = R.count_nonzero()\n",
    "\n",
    "print(\"There are\", m, \"users,\", n, \"items and\", numRatings, \"ratings.\")"
   ]
  },
  {
   "cell_type": "markdown",
   "metadata": {
    "deletable": false,
    "editable": false,
    "nbgrader": {
     "checksum": "05b7d158562ee87b699d23e421743377",
     "grade": false,
     "grade_id": "cell-dd7beae4bffde172",
     "locked": true,
     "schema_version": 1,
     "solution": false
    }
   },
   "source": [
    "## The fun starts here!"
   ]
  },
  {
   "cell_type": "markdown",
   "metadata": {
    "deletable": false,
    "editable": false,
    "nbgrader": {
     "checksum": "1df1e24a72f6aa3f16dc8661fd7397fb",
     "grade": false,
     "grade_id": "cell-82149612d690542e",
     "locked": true,
     "schema_version": 1,
     "solution": false
    }
   },
   "source": [
    "### User Average Ratings"
   ]
  },
  {
   "cell_type": "markdown",
   "metadata": {
    "deletable": false,
    "editable": false,
    "nbgrader": {
     "checksum": "43a0e74b3b41801f1842da5663556b79",
     "grade": false,
     "grade_id": "cell-a6433745230c2035",
     "locked": true,
     "schema_version": 1,
     "solution": false
    }
   },
   "source": [
    "The following code computes the average rating of each user. This will be used for mean-centering, i.e., when computing similarities, as well as for making predictions."
   ]
  },
  {
   "cell_type": "code",
   "execution_count": null,
   "metadata": {
    "deletable": false,
    "editable": false,
    "nbgrader": {
     "checksum": "b1d3d77d0e75d4405188eb036e7ce0b6",
     "grade": false,
     "grade_id": "cell-fc34b6a91b8cf5e0",
     "locked": true,
     "schema_version": 1,
     "solution": false
    }
   },
   "outputs": [],
   "source": [
    "user_sums = R.sum(axis=1).A1 ## matrix converted to 1-D array via .A1\n",
    "user_cnts = (R != 0).sum(axis=1).A1\n",
    "user_avgs = user_sums / user_cnts\n",
    "print(\"user_avgs\", user_avgs)"
   ]
  },
  {
   "cell_type": "markdown",
   "metadata": {
    "deletable": false,
    "editable": false,
    "nbgrader": {
     "checksum": "da07fb525a7bdd6e45dcfe06136098c5",
     "grade": false,
     "grade_id": "cell-aa1ce964fa726672",
     "locked": true,
     "schema_version": 1,
     "solution": false
    }
   },
   "source": [
    "### User-User Similarity --- TO EDIT\n",
    "\n",
    "The following function computes the mean-centered cosine similarity between two users.\n",
    "\n",
    "*Tricks* that might be useful:\n",
    "\n",
    "To subtract a scalar value `y` from all nonzero entries of a sparse vector `x`, do:\n",
    "```\n",
    "x.data = x.data - y\n",
    "```\n",
    "\n",
    "The dot product of a sparse vector `x` to sparse vector `y` is:\n",
    "```\n",
    "x.dot(y.T)\n",
    "```\n",
    "\n",
    "The norm of a sparse vector `x` is:\n",
    "```\n",
    "norm(x)\n",
    "```\n",
    "\n",
    "\n",
    "If a sparse vector `x` has only a single item, you can access it by:\n",
    "```\n",
    "x.A.item()\n",
    "```\n",
    "\n",
    "Note that `x.A` returns the dense representation of sparse vector `x`."
   ]
  },
  {
   "cell_type": "code",
   "execution_count": null,
   "metadata": {
    "deletable": false,
    "nbgrader": {
     "checksum": "2b0e4f42f533ea674ef86a452a5c258c",
     "grade": false,
     "grade_id": "compute_pairwise_user_similarity",
     "locked": false,
     "schema_version": 1,
     "solution": true
    }
   },
   "outputs": [],
   "source": [
    "def compute_pairwise_user_similarity(u_id, v_id):\n",
    "    u = R[u_id,:].copy()\n",
    "    v = R[v_id,:].copy()\n",
    "    \n",
    "    # YOUR CODE HERE\n",
    "    raise NotImplementedError()\n",
    "    \n",
    "    if denominator == 0:\n",
    "        similarity = 0.;\n",
    "    else:\n",
    "        similarity = numerator/denominator\n",
    "    \n",
    "    return similarity"
   ]
  },
  {
   "cell_type": "code",
   "execution_count": null,
   "metadata": {
    "deletable": false,
    "editable": false,
    "nbgrader": {
     "checksum": "ba0c522d4a2cc8e1a3297613fd76c1f3",
     "grade": true,
     "grade_id": "compute_pairwise_user_similarity-tests",
     "locked": true,
     "points": 1,
     "schema_version": 1,
     "solution": false
    }
   },
   "outputs": [],
   "source": [
    "if DEBUG:\n",
    "    print(compute_pairwise_user_similarity(2, 6))\n"
   ]
  },
  {
   "cell_type": "markdown",
   "metadata": {
    "deletable": false,
    "editable": false,
    "nbgrader": {
     "checksum": "5d40f55410e5586326cb6bd7e7f16550",
     "grade": false,
     "grade_id": "cell-8ff198e3dea0c6cf",
     "locked": true,
     "schema_version": 1,
     "solution": false
    }
   },
   "source": [
    "**DEBUG:** For the truncated dataset, the following should output ~ `0.03585`."
   ]
  },
  {
   "cell_type": "markdown",
   "metadata": {
    "deletable": false,
    "editable": false,
    "nbgrader": {
     "checksum": "17ec41debddb9701c6771deabdfb6264",
     "grade": false,
     "grade_id": "cell-e8e57bec37959182",
     "locked": true,
     "schema_version": 1,
     "solution": false
    }
   },
   "source": [
    "### User to all Users Similarities --- TO EDIT\n",
    "\n",
    "The following function computes the mean-centered cosine similarities of a given user to all other users.\n",
    "\n",
    "You should use the `compute_pairwise_user_similarity` function defined above.\n",
    "\n",
    "\n",
    "You will get a **bonus point**, if you can avoid the for loop and not invoke `compute_pairwise_user_similarity`. The idea is to obtain a copy, say `R_copy`, of matrix `R` that has its rows mean-centered and normalized. This way the given user can be represented by a mean-centered and normalized vector `u`. Then, to obtain the similarity of the user to all others, one needs to take the dot product `R_copy.dot(u.T)`. "
   ]
  },
  {
   "cell_type": "code",
   "execution_count": null,
   "metadata": {
    "deletable": false,
    "nbgrader": {
     "checksum": "04984228c0a1ce98ecdda7856f578e72",
     "grade": false,
     "grade_id": "compute_user_similarities",
     "locked": false,
     "schema_version": 1,
     "solution": true
    }
   },
   "outputs": [],
   "source": [
    "def compute_user_similarities(u_id):\n",
    "    uU = np.empty((m,))\n",
    "\n",
    "    # for v_id in range(m):\n",
    "\n",
    "    # YOUR CODE HERE\n",
    "    raise NotImplementedError()\n",
    "    \n",
    "    return uU"
   ]
  },
  {
   "cell_type": "code",
   "execution_count": null,
   "metadata": {
    "deletable": false,
    "editable": false,
    "nbgrader": {
     "checksum": "b1cacd22df37f4cffaabbc73bb530657",
     "grade": true,
     "grade_id": "compute_user_similarities-test",
     "locked": true,
     "points": 1,
     "schema_version": 1,
     "solution": false
    }
   },
   "outputs": [],
   "source": [
    "if DEBUG:\n",
    "    uU = compute_user_similarities(2)\n",
    "    print(uU[6])\n",
    "    "
   ]
  },
  {
   "cell_type": "code",
   "execution_count": null,
   "metadata": {
    "deletable": false,
    "editable": false,
    "nbgrader": {
     "checksum": "48b819ae40b630a542ce2f2d3ee41376",
     "grade": true,
     "grade_id": "compute_user_similarities-bonus",
     "locked": true,
     "points": 1,
     "schema_version": 1,
     "solution": false
    }
   },
   "outputs": [],
   "source": []
  },
  {
   "cell_type": "markdown",
   "metadata": {
    "deletable": false,
    "editable": false,
    "nbgrader": {
     "checksum": "2701f45ed51dcb35565edc335e7f5aa1",
     "grade": false,
     "grade_id": "cell-a0c566704d8cce44",
     "locked": true,
     "schema_version": 1,
     "solution": false
    }
   },
   "source": [
    "**DEBUG:** For the truncated dataset, the following should again output ~ `0.03585`."
   ]
  },
  {
   "cell_type": "markdown",
   "metadata": {
    "deletable": false,
    "editable": false,
    "nbgrader": {
     "checksum": "2a760fddfc6f1b360e95a474d2759244",
     "grade": false,
     "grade_id": "cell-30331d6bae1fb4f7",
     "locked": true,
     "schema_version": 1,
     "solution": false
    }
   },
   "source": [
    "### Create User Neighborhood --- TO EDIT"
   ]
  },
  {
   "cell_type": "markdown",
   "metadata": {
    "deletable": false,
    "editable": false,
    "nbgrader": {
     "checksum": "a3c4546bc1f0c2b41f7388d3c231ae0a",
     "grade": false,
     "grade_id": "cell-3197857236fc4037",
     "locked": true,
     "schema_version": 1,
     "solution": false
    }
   },
   "source": [
    "The following function creates the user neighborhood of a given user. It takes as input, the target user `u_id` and the target item`i_id`, and uses additional parameters, the size `k` of the neighborhood, and a flag `with_abs_sim`.\n",
    "\n",
    "If `with_abs_sim` is `True`, the neighborhood should contain up to `k` users with the highest absolute similarity to the target user `u_id`.\n",
    "\n",
    "If `with_abs_sim` is `False`, the neighborhood should contain up to `k` users with the highest similarity to the target user `u_id`.\n",
    "\n",
    "The output of the function is `nh`, a `Dictionary` containing key-value entries of the form `v_id : sim(u_id, v_id)`, where `v_id` is another user and `sim(u_id, v_id)` is the similarity between `u_id` and `v_id`.\n",
    "\n",
    "**Note:** The neighborhood of the target user should not contain itself, i.e., `u_id`, and only include users that have rated the target item `i_id`.\n",
    "\n",
    "\n",
    "*Tricks* that might be useful:\n",
    "\n",
    "`np.absolute(x)` returns an array containing the absolute values of each element in array `x`.\n",
    "\n",
    "`np.argsort(x)` returns an array with the indices that sort array `x` in *increasing* order.\n",
    "\n",
    "`x[::-1]` returns the reversed array of `x`. So, `np.argsort(x)[::-1]` contains the indices that sort x in *decreasing* order.\n",
    "\n",
    "To check if user `u_id` has rated item `i_id`, the `R_dok` view of the ratings matrix is helpful:\n",
    "```\n",
    "(u_id, i_id) in R_dok\n",
    "```"
   ]
  },
  {
   "cell_type": "code",
   "execution_count": null,
   "metadata": {
    "deletable": false,
    "nbgrader": {
     "checksum": "69adb97bb59f831d60ef5b9e0f4fc861",
     "grade": false,
     "grade_id": "create_user_neighborhood",
     "locked": false,
     "schema_version": 1,
     "solution": true
    }
   },
   "outputs": [],
   "source": [
    "## default values\n",
    "k = 5\n",
    "with_abs_sim = False\n",
    "\n",
    "def create_user_neighborhood(u_id, i_id):\n",
    "    nh = {} ## the neighborhood dict with (user id: similarity) entries\n",
    "    ## nh should not contain u_id and only include users that have rated i_id; there should be at most k neighbors\n",
    "    uU = compute_user_similarities(u_id)\n",
    "    uU_copy = uU.copy() ## so that we can modify it, but also keep the original\n",
    "    \n",
    "    # YOUR CODE HERE\n",
    "    raise NotImplementedError()\n",
    "    \n",
    "    return nh"
   ]
  },
  {
   "cell_type": "code",
   "execution_count": null,
   "metadata": {
    "deletable": false,
    "editable": false,
    "nbgrader": {
     "checksum": "27f21d42b859c570111c0e32fc162f1e",
     "grade": true,
     "grade_id": "create_user_neighborhood-test",
     "locked": true,
     "points": 1,
     "schema_version": 1,
     "solution": false
    }
   },
   "outputs": [],
   "source": [
    "if DEBUG:\n",
    "    k = 5\n",
    "    with_abs_sim = False\n",
    "    nh = create_user_neighborhood(0, 8)\n",
    "    print(\"with_abs_sim\", with_abs_sim, nh)\n",
    "    with_abs_sim = True\n",
    "    nh = create_user_neighborhood(0, 8)\n",
    "    print(\"with_abs_sim\", with_abs_sim, nh)\n",
    "    "
   ]
  },
  {
   "cell_type": "markdown",
   "metadata": {
    "deletable": false,
    "editable": false,
    "nbgrader": {
     "checksum": "39de2cffbbd9f6b4847c8e92fe24bdd7",
     "grade": false,
     "grade_id": "cell-2ed7a62471cf1a56",
     "locked": true,
     "schema_version": 1,
     "solution": false
    }
   },
   "source": [
    "**DEBUG:** For the truncated dataset, the following should output sth like:\n",
    "```\n",
    "with_abs_sim False {3439: 0.22132669799727464, 567: 0.21578253384096696, 8084: 0.190930997689841, 7883: 0.18261506018058074, 5352: 0.1798009794567789}\n",
    "with_abs_sim True {4850: -0.22736427873770565, 3439: 0.22132669799727464, 567: 0.21578253384096696, 8084: 0.190930997689841, 7883: 0.18261506018058074}\n",
    "```"
   ]
  },
  {
   "cell_type": "markdown",
   "metadata": {
    "deletable": false,
    "editable": false,
    "nbgrader": {
     "checksum": "1c7f34f0b0c956b7c27b4482c346afb6",
     "grade": false,
     "grade_id": "cell-7c5b579aa65569ce",
     "locked": true,
     "schema_version": 1,
     "solution": false
    }
   },
   "source": [
    "### Predict a Rating --- TO EDIT"
   ]
  },
  {
   "cell_type": "markdown",
   "metadata": {
    "deletable": false,
    "editable": false,
    "nbgrader": {
     "checksum": "199b6a75766161ed61339a976f235a48",
     "grade": false,
     "grade_id": "cell-9746a6cec2355002",
     "locked": true,
     "schema_version": 1,
     "solution": false
    }
   },
   "source": [
    "The following function predicts the rating user `u_id` would give to item `i_id`. It uses the flag `with_deviations` to make the prediction.\n",
    "\n",
    "If `with_deviations` is `True`, the prediction is made over *rating deviations*:\n",
    "$$ s(u,i) = \\overline{r_u} + \\frac{\\sum_{v \\in N(u;i)}w_{uv} (r_{vi}-\\overline{r_v})}{\\sum_{v \\in N(u;i)} |w_{uv}|} .$$\n",
    "\n",
    "If `with_deviations` is `False`, the prediction is made directly over ratings:\n",
    "$$ s(u,i) = \\frac{\\sum_{v \\in N(u;i)}w_{uv} r_{vi}}{\\sum_{v \\in N(u;i)} |w_{uv}|} .$$\n",
    "\n",
    "The output of the function is the predicted rating `prediction`."
   ]
  },
  {
   "cell_type": "code",
   "execution_count": null,
   "metadata": {
    "deletable": false,
    "nbgrader": {
     "checksum": "bb463dfeb41d85dc477467dd569e1988",
     "grade": false,
     "grade_id": "predict_rating",
     "locked": false,
     "schema_version": 1,
     "solution": true
    }
   },
   "outputs": [],
   "source": [
    "## a default value\n",
    "with_deviations = True\n",
    "\n",
    "def predict_rating(u_id, i_id):\n",
    "    \n",
    "    if (u_id, i_id) in R_dok:\n",
    "        print(\"user\", u_id, \"has rated item\", i_id, \"with\", R[u_id, i_id])\n",
    "    else:\n",
    "        print(\"user\", u_id, \"has not rated item\", i_id)\n",
    "    print(\"k:\", k, \"with_deviations:\", with_deviations, \"with_abs_sim:\", with_abs_sim)\n",
    "    \n",
    "    \n",
    "    nh = create_user_neighborhood(u_id, i_id)\n",
    "    \n",
    "    neighborhood_weighted_avg = 0.\n",
    "\n",
    "    # YOUR CODE HERE\n",
    "    raise NotImplementedError()\n",
    "    \n",
    "    if with_deviations:\n",
    "        prediction = user_avgs[u_id] + neighborhood_weighted_avg\n",
    "        print(\"prediction \", prediction, \" (user_avg \", user_avgs[u_id], \" offset\", neighborhood_weighted_avg, \")\", sep=\"\")\n",
    "    else:\n",
    "        prediction = neighborhood_weighted_avg\n",
    "        print(\"prediction \", prediction, \" (user_avg \", user_avgs[u_id], \")\", sep=\"\")\n",
    "        \n",
    "    return prediction"
   ]
  },
  {
   "cell_type": "code",
   "execution_count": null,
   "metadata": {
    "deletable": false,
    "editable": false,
    "nbgrader": {
     "checksum": "6f0cd6522057d0ef50f4ccef1de05e35",
     "grade": true,
     "grade_id": "predict_rating-test",
     "locked": true,
     "points": 2,
     "schema_version": 1,
     "solution": false
    }
   },
   "outputs": [],
   "source": [
    "if DEBUG:\n",
    "    k = 50\n",
    "    with_abs_sim = True\n",
    "    with_deviations = False\n",
    "    predict_rating(0, 8)\n",
    "    with_deviations = True\n",
    "    predict_rating(0, 8)\n",
    "    "
   ]
  },
  {
   "cell_type": "markdown",
   "metadata": {
    "deletable": false,
    "editable": false,
    "nbgrader": {
     "checksum": "a81c1f1dfb3fca8e5be5994373f0febd",
     "grade": false,
     "grade_id": "cell-dc072026038a28cd",
     "locked": true,
     "schema_version": 1,
     "solution": false
    }
   },
   "source": [
    "**DEBUG:** For the truncated dataset, the following should output sth like:\n",
    "```\n",
    "user 0 has not rated item 8\n",
    "k: 50 with_deviations: False with_abs_sim: True\n",
    "prediction 2.3543500356001195 (user_avg 3.6666666666666665)\n",
    "user 0 has not rated item 8\n",
    "k: 50 with_deviations: True with_abs_sim: True\n",
    "prediction 3.306360467515388 (user_avg 3.6666666666666665 offset-0.36030619915127843)\n",
    "```"
   ]
  },
  {
   "cell_type": "markdown",
   "metadata": {
    "deletable": false,
    "editable": false,
    "nbgrader": {
     "checksum": "97b26622d8ebbff25c7ee7ae0a6165c3",
     "grade": false,
     "grade_id": "cell-98fcbe266780d86f",
     "locked": true,
     "schema_version": 1,
     "solution": false
    }
   },
   "source": [
    "## Tests\n",
    "\n",
    "For this part, **use the full dataset**, and not the truncated one."
   ]
  },
  {
   "cell_type": "code",
   "execution_count": null,
   "metadata": {
    "deletable": false,
    "editable": false,
    "nbgrader": {
     "checksum": "11a40fb207e68b3507bedb40aef60fb2",
     "grade": false,
     "grade_id": "cell-b384924832dcec83",
     "locked": true,
     "schema_version": 1,
     "solution": false
    }
   },
   "outputs": [],
   "source": [
    "k = 50\n",
    "with_deviations = True\n",
    "with_abs_sim = True\n",
    "predict_rating(0, 8)\n",
    "%time predict_rating(22, 35)\n",
    "\n",
    "print(\"done!\")"
   ]
  },
  {
   "cell_type": "markdown",
   "metadata": {
    "deletable": false,
    "editable": false,
    "nbgrader": {
     "checksum": "4e0d23877050ae552e2ded8223251359",
     "grade": false,
     "grade_id": "cell-ed0f894122ff89fa",
     "locked": true,
     "schema_version": 1,
     "solution": false
    }
   },
   "source": [
    "**Expected output:**\n",
    "```\n",
    "user 0 has not rated item 8\n",
    "k: 50 with_deviations: True with_abs_sim: True\n",
    "prediction 3.042709922016805 (user_avg 3.742857142857143 offset-0.700147220840338)\n",
    "user 22 has not rated item 35\n",
    "k: 50 with_deviations: True with_abs_sim: True\n",
    "prediction 4.2453310322831594 (user_avg 3.9411764705882355 offset0.30415456169492433)\n",
    "Wall time: 544 ms\n",
    "done!\n",
    "\n",
    "```\n",
    "\n"
   ]
  },
  {
   "cell_type": "code",
   "execution_count": null,
   "metadata": {
    "deletable": false,
    "editable": false,
    "nbgrader": {
     "checksum": "a328c7f948b4be37544beec23aa212d2",
     "grade": false,
     "grade_id": "cell-589ac670849b5747",
     "locked": true,
     "schema_version": 1,
     "solution": false
    }
   },
   "outputs": [],
   "source": [
    "k = 50\n",
    "with_deviations = False\n",
    "with_abs_sim = False\n",
    "predict_rating(0, 12)\n",
    "%time predict_rating(22, 35)\n",
    "\n",
    "print(\"done!\")"
   ]
  },
  {
   "cell_type": "markdown",
   "metadata": {
    "deletable": false,
    "editable": false,
    "nbgrader": {
     "checksum": "d44c007180d25beee46806fe8384ecf4",
     "grade": false,
     "grade_id": "cell-9fec1ba2931aad66",
     "locked": true,
     "schema_version": 1,
     "solution": false
    }
   },
   "source": [
    "**Expected output:**\n",
    "```\n",
    "user 0 has not rated item 12\n",
    "k: 50 with_deviations: False with_abs_sim: False\n",
    "prediction 3.297532757797329 (user_avg 3.742857142857143)\n",
    "user 22 has not rated item 35\n",
    "k: 50 with_deviations: False with_abs_sim: False\n",
    "prediction 3.941867781560111 (user_avg 3.9411764705882355)\n",
    "Wall time: 547 ms\n",
    "done!\n",
    "\n",
    "```"
   ]
  },
  {
   "cell_type": "code",
   "execution_count": null,
   "metadata": {},
   "outputs": [],
   "source": [
    "# feel free to use this field for additional tests"
   ]
  },
  {
   "cell_type": "code",
   "execution_count": null,
   "metadata": {},
   "outputs": [],
   "source": [
    "# feel free to use this field for additional tests"
   ]
  },
  {
   "cell_type": "code",
   "execution_count": null,
   "metadata": {},
   "outputs": [],
   "source": [
    "# feel free to use this field for additional tests"
   ]
  },
  {
   "cell_type": "code",
   "execution_count": null,
   "metadata": {},
   "outputs": [],
   "source": [
    "# feel free to use this field for additional tests"
   ]
  },
  {
   "cell_type": "code",
   "execution_count": null,
   "metadata": {},
   "outputs": [],
   "source": [
    "# feel free to use this field for additional tests"
   ]
  }
 ],
 "metadata": {
  "kernelspec": {
   "display_name": "Python 3",
   "language": "python",
   "name": "python3"
  },
  "language_info": {
   "codemirror_mode": {
    "name": "ipython",
    "version": 3
   },
   "file_extension": ".py",
   "mimetype": "text/x-python",
   "name": "python",
   "nbconvert_exporter": "python",
   "pygments_lexer": "ipython3",
   "version": "3.6.3"
  }
 },
 "nbformat": 4,
 "nbformat_minor": 2
}
