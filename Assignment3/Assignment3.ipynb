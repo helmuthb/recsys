{
 "cells": [
  {
   "cell_type": "markdown",
   "metadata": {},
   "source": [
    "---"
   ]
  },
  {
   "cell_type": "markdown",
   "metadata": {
    "deletable": false,
    "editable": false,
    "nbgrader": {
     "checksum": "73c10bcdc8e297a822845e1ca7b80386",
     "grade": false,
     "grade_id": "cell-5b46313c3ddaa966",
     "locked": true,
     "schema_version": 1,
     "solution": false
    }
   },
   "source": [
    "# Assignment 3\n",
    "\n",
    "Welcome to the third assignment! Here you will implement a simple Content-Based Recommender. We will use part of the MovieLens 20M dataset.\n",
    "\n",
    "You will write and execute your code in Python using this Jupyter Notebook.\n",
    "\n",
    "**PREREQUISITE:** Download the Movie Dataset from: <https://www.kaggle.com/rounakbanik/the-movies-dataset/data>. Extract the contents of the zip file into `data_directory`.\n",
    "So you should have, for example, a file `data_directory/movies_metadata.csv`.\n",
    "\n",
    "Also download the MovieLens 20M dataset from <https://grouplens.org/datasets/movielens/20m/>. Extract the `ratings.csv` file and overwrite the one in `data_directory` in the code. You should then have a file `data_directory/ratings.csv` that has about 20M ratings, instead of about 26M contained in the full MovieLens dataset from kaggle.\n",
    "\n",
    "**TASK:** Your job is to *fill in the missing code* only. The place to enter your code is clearly marked with comments.\n",
    "\n",
    "**SUBMISSION:** You will submit this Notebook via TUWEL.\n",
    "\n",
    "**GRADING:** We will test whether you code produces the expected output that is provided. We will also run additional tests, not shown here."
   ]
  },
  {
   "cell_type": "markdown",
   "metadata": {
    "deletable": false,
    "editable": false,
    "nbgrader": {
     "checksum": "d1c7946a38e271b460cc1cbfce394f1d",
     "grade": false,
     "grade_id": "cell-d7bd70547996f28c",
     "locked": true,
     "schema_version": 1,
     "solution": false
    }
   },
   "source": [
    "## Preparation\n",
    "Importing necessary modules."
   ]
  },
  {
   "cell_type": "code",
   "execution_count": 1,
   "metadata": {
    "deletable": false,
    "editable": false,
    "nbgrader": {
     "checksum": "88f230fba0abf12c9c91e15ed66403df",
     "grade": false,
     "grade_id": "cell-14151cdb2a0cad2a",
     "locked": true,
     "schema_version": 1,
     "solution": false
    }
   },
   "outputs": [],
   "source": [
    "import csv\n",
    "import pandas as pd\n",
    "import numpy as np\n",
    "from scipy import sparse as sp\n",
    "import sklearn.preprocessing as pp\n",
    "from sklearn.feature_extraction.text import TfidfVectorizer\n",
    "from sklearn.metrics.pairwise import linear_kernel"
   ]
  },
  {
   "cell_type": "markdown",
   "metadata": {
    "deletable": false,
    "editable": false,
    "nbgrader": {
     "checksum": "363622de52d6dfefaa635c1102fb5ca4",
     "grade": false,
     "grade_id": "cell-8ac40463e009e648",
     "locked": true,
     "schema_version": 1,
     "solution": false
    }
   },
   "source": [
    "Make sure to enter the correct location of your data."
   ]
  },
  {
   "cell_type": "code",
   "execution_count": 2,
   "metadata": {},
   "outputs": [],
   "source": [
    "data_directory = '../../data/'"
   ]
  },
  {
   "cell_type": "code",
   "execution_count": null,
   "metadata": {
    "deletable": false,
    "editable": false,
    "nbgrader": {
     "checksum": "027ab34b2e970f1f78e33122420f7b29",
     "grade": true,
     "grade_id": "load-data-for-grading",
     "locked": true,
     "points": 0,
     "schema_version": 1,
     "solution": false
    }
   },
   "outputs": [],
   "source": []
  },
  {
   "cell_type": "markdown",
   "metadata": {
    "deletable": false,
    "editable": false,
    "nbgrader": {
     "checksum": "451d4ecb607314172286e7fd91ce4ab5",
     "grade": false,
     "grade_id": "cell-832e4e82841c58cd",
     "locked": true,
     "schema_version": 1,
     "solution": false
    }
   },
   "source": [
    "## Create the items DataFrame"
   ]
  },
  {
   "cell_type": "code",
   "execution_count": 3,
   "metadata": {
    "deletable": false,
    "editable": false,
    "nbgrader": {
     "checksum": "063127f32de1e769e81f6d6172524a83",
     "grade": false,
     "grade_id": "cell-14a129266cc43570",
     "locked": true,
     "schema_version": 1,
     "solution": false
    }
   },
   "outputs": [
    {
     "data": {
      "text/html": [
       "<div>\n",
       "<style scoped>\n",
       "    .dataframe tbody tr th:only-of-type {\n",
       "        vertical-align: middle;\n",
       "    }\n",
       "\n",
       "    .dataframe tbody tr th {\n",
       "        vertical-align: top;\n",
       "    }\n",
       "\n",
       "    .dataframe thead th {\n",
       "        text-align: right;\n",
       "    }\n",
       "</style>\n",
       "<table border=\"1\" class=\"dataframe\">\n",
       "  <thead>\n",
       "    <tr style=\"text-align: right;\">\n",
       "      <th></th>\n",
       "      <th>genres</th>\n",
       "      <th>id</th>\n",
       "      <th>plot</th>\n",
       "      <th>movieId</th>\n",
       "      <th>imdbId</th>\n",
       "      <th>title</th>\n",
       "      <th>keywords</th>\n",
       "      <th>cast</th>\n",
       "      <th>director</th>\n",
       "      <th>metadata</th>\n",
       "    </tr>\n",
       "  </thead>\n",
       "  <tbody>\n",
       "    <tr>\n",
       "      <th>0</th>\n",
       "      <td>[animation, comedy, family]</td>\n",
       "      <td>862</td>\n",
       "      <td>Led by Woody, Andy's toys live happily in his ...</td>\n",
       "      <td>1</td>\n",
       "      <td>114709</td>\n",
       "      <td>Toy Story (1995)</td>\n",
       "      <td>[jealousy, toy, boy]</td>\n",
       "      <td>[tomhanks, timallen, donrickles]</td>\n",
       "      <td>johnlasseter</td>\n",
       "      <td>jealousy toy boy tomhanks timallen donrickles ...</td>\n",
       "    </tr>\n",
       "    <tr>\n",
       "      <th>1</th>\n",
       "      <td>[adventure, fantasy, family]</td>\n",
       "      <td>8844</td>\n",
       "      <td>When siblings Judy and Peter discover an encha...</td>\n",
       "      <td>2</td>\n",
       "      <td>113497</td>\n",
       "      <td>Jumanji (1995)</td>\n",
       "      <td>[boardgame, disappearance, basedonchildren'sbook]</td>\n",
       "      <td>[robinwilliams, jonathanhyde, kirstendunst]</td>\n",
       "      <td>joejohnston</td>\n",
       "      <td>boardgame disappearance basedonchildren'sbook ...</td>\n",
       "    </tr>\n",
       "    <tr>\n",
       "      <th>2</th>\n",
       "      <td>[romance, comedy]</td>\n",
       "      <td>15602</td>\n",
       "      <td>A family wedding reignites the ancient feud be...</td>\n",
       "      <td>3</td>\n",
       "      <td>113228</td>\n",
       "      <td>Grumpier Old Men (1995)</td>\n",
       "      <td>[fishing, bestfriend, duringcreditsstinger]</td>\n",
       "      <td>[waltermatthau, jacklemmon, ann-margret]</td>\n",
       "      <td>howarddeutch</td>\n",
       "      <td>fishing bestfriend duringcreditsstinger walter...</td>\n",
       "    </tr>\n",
       "    <tr>\n",
       "      <th>3</th>\n",
       "      <td>[comedy, drama, romance]</td>\n",
       "      <td>31357</td>\n",
       "      <td>Cheated on, mistreated and stepped on, the wom...</td>\n",
       "      <td>4</td>\n",
       "      <td>114885</td>\n",
       "      <td>Waiting to Exhale (1995)</td>\n",
       "      <td>[basedonnovel, interracialrelationship, single...</td>\n",
       "      <td>[whitneyhouston, angelabassett, lorettadevine]</td>\n",
       "      <td>forestwhitaker</td>\n",
       "      <td>basedonnovel interracialrelationship singlemot...</td>\n",
       "    </tr>\n",
       "    <tr>\n",
       "      <th>4</th>\n",
       "      <td>[comedy]</td>\n",
       "      <td>11862</td>\n",
       "      <td>Just when George Banks has recovered from his ...</td>\n",
       "      <td>5</td>\n",
       "      <td>113041</td>\n",
       "      <td>Father of the Bride Part II (1995)</td>\n",
       "      <td>[baby, midlifecrisis, confidence]</td>\n",
       "      <td>[stevemartin, dianekeaton, martinshort]</td>\n",
       "      <td>charlesshyer</td>\n",
       "      <td>baby midlifecrisis confidence stevemartin dian...</td>\n",
       "    </tr>\n",
       "  </tbody>\n",
       "</table>\n",
       "</div>"
      ],
      "text/plain": [
       "                         genres     id  \\\n",
       "0   [animation, comedy, family]    862   \n",
       "1  [adventure, fantasy, family]   8844   \n",
       "2             [romance, comedy]  15602   \n",
       "3      [comedy, drama, romance]  31357   \n",
       "4                      [comedy]  11862   \n",
       "\n",
       "                                                plot  movieId  imdbId  \\\n",
       "0  Led by Woody, Andy's toys live happily in his ...        1  114709   \n",
       "1  When siblings Judy and Peter discover an encha...        2  113497   \n",
       "2  A family wedding reignites the ancient feud be...        3  113228   \n",
       "3  Cheated on, mistreated and stepped on, the wom...        4  114885   \n",
       "4  Just when George Banks has recovered from his ...        5  113041   \n",
       "\n",
       "                                title  \\\n",
       "0                    Toy Story (1995)   \n",
       "1                      Jumanji (1995)   \n",
       "2             Grumpier Old Men (1995)   \n",
       "3            Waiting to Exhale (1995)   \n",
       "4  Father of the Bride Part II (1995)   \n",
       "\n",
       "                                            keywords  \\\n",
       "0                               [jealousy, toy, boy]   \n",
       "1  [boardgame, disappearance, basedonchildren'sbook]   \n",
       "2        [fishing, bestfriend, duringcreditsstinger]   \n",
       "3  [basedonnovel, interracialrelationship, single...   \n",
       "4                  [baby, midlifecrisis, confidence]   \n",
       "\n",
       "                                             cast        director  \\\n",
       "0                [tomhanks, timallen, donrickles]    johnlasseter   \n",
       "1     [robinwilliams, jonathanhyde, kirstendunst]     joejohnston   \n",
       "2        [waltermatthau, jacklemmon, ann-margret]    howarddeutch   \n",
       "3  [whitneyhouston, angelabassett, lorettadevine]  forestwhitaker   \n",
       "4         [stevemartin, dianekeaton, martinshort]    charlesshyer   \n",
       "\n",
       "                                            metadata  \n",
       "0  jealousy toy boy tomhanks timallen donrickles ...  \n",
       "1  boardgame disappearance basedonchildren'sbook ...  \n",
       "2  fishing bestfriend duringcreditsstinger walter...  \n",
       "3  basedonnovel interracialrelationship singlemot...  \n",
       "4  baby midlifecrisis confidence stevemartin dian...  "
      ]
     },
     "execution_count": 3,
     "metadata": {},
     "output_type": "execute_result"
    }
   ],
   "source": [
    "links = pd.read_csv(data_directory + 'links.csv')\n",
    "movies_plain = pd.read_csv(data_directory + 'movies.csv')\n",
    "metadata = pd.read_csv(data_directory + 'movies_metadata.csv', low_memory=False)\n",
    "metadata.drop(metadata.columns[[0,1,2,4,6,7,8,10,11,12,13,14,15,16,17,18,19,20,21,22,23]], axis=1, inplace=True)\n",
    "keywords = pd.read_csv(data_directory + 'keywords.csv', low_memory=False)\n",
    "credits = pd.read_csv(data_directory + 'credits.csv', low_memory=False)\n",
    "\n",
    "keywords['id'] = keywords['id'].astype('int')\n",
    "links=links[links['tmdbId'].isnull()==False]\n",
    "links['tmdbId'] = links['tmdbId'].astype('int')\n",
    "metadata = metadata.drop([19730, 29503, 35587])\n",
    "metadata['id'] = metadata['id'].astype('int')\n",
    "credits['id'] = credits['id'].astype('int')\n",
    "\n",
    "movies = metadata.merge(links, how='inner', left_on='id', right_on='tmdbId')\n",
    "movies = movies.merge(movies_plain, how='inner', left_on='movieId', right_on='movieId')\n",
    "movies = movies.merge(keywords, how='inner', left_on='id', right_on='id')\n",
    "movies = movies.merge(credits, how='inner', left_on='id', right_on='id')\n",
    "movies = movies.drop(columns=['tmdbId','genres_y'])\n",
    "movies.rename(columns={'genres_x': 'genres'}, inplace=True)\n",
    "\n",
    "movies=movies[movies['overview'].isnull()==False]\n",
    "\n",
    "movies = movies[movies['movieId'] <= 1000]\n",
    "\n",
    "from ast import literal_eval\n",
    "\n",
    "features = ['cast', 'crew', 'keywords', 'genres']\n",
    "for feature in features:\n",
    "    movies[feature] = movies[feature].apply(literal_eval)\n",
    "    \n",
    "\n",
    "# Get the director's name from the crew feature. If director is not listed, return NaN\n",
    "def get_director(x):\n",
    "    for i in x:\n",
    "        if i['job'] == 'Director':\n",
    "            return i['name']\n",
    "    return np.nan\n",
    "\n",
    "# Returns the list top 3 elements or entire list; whichever is more.\n",
    "def get_list(x):\n",
    "    if isinstance(x, list):\n",
    "        names = [i['name'] for i in x]\n",
    "        #Check if more than 3 elements exist. If yes, return only first three. If no, return entire list.\n",
    "        if len(names) > 3:\n",
    "            names = names[:3]\n",
    "        return names\n",
    "\n",
    "    #Return empty list in case of missing/malformed data\n",
    "    return []\n",
    "\n",
    "# Define new director, cast, genres and keywords features that are in a suitable form.\n",
    "movies['director'] = movies['crew'].apply(get_director)\n",
    "\n",
    "features = ['cast', 'keywords', 'genres']\n",
    "for feature in features:\n",
    "    movies[feature] = movies[feature].apply(get_list)\n",
    "\n",
    "    \n",
    "# Function to convert all strings to lower case and strip names of spaces\n",
    "def clean_data(x):\n",
    "    if isinstance(x, list):\n",
    "        return [str.lower(i.replace(\" \", \"\")) for i in x]\n",
    "    else:\n",
    "        # Check if string exists. If not, return empty string\n",
    "        if isinstance(x, str):\n",
    "            return str.lower(x.replace(\" \", \"\"))\n",
    "        else:\n",
    "            return ''\n",
    "\n",
    "# Apply clean_data function to your features.\n",
    "features = ['cast', 'keywords', 'director', 'genres']\n",
    "\n",
    "for feature in features:\n",
    "    movies[feature] = movies[feature].apply(clean_data)\n",
    "\n",
    "    \n",
    "# Drop duplicate movies   \n",
    "import collections\n",
    "movie_ids = movies['movieId'].tolist()\n",
    "movie_ids_dup = [x for  x, y in collections.Counter(movie_ids).items() if y > 1]\n",
    "\n",
    "for movie_id in movie_ids_dup:\n",
    "    to_drop = movies.index[movies.movieId == movie_id].tolist()[1:]\n",
    "    movies.drop(to_drop, inplace=True)\n",
    "\n",
    "movies.drop(columns='crew', inplace=True)\n",
    "\n",
    "\n",
    "movies.rename(columns={'overview':'plot'}, inplace=True)\n",
    "\n",
    "def create_metadata(x):\n",
    "        return ' '.join(x['keywords']) + ' ' + ' '.join(x['cast']) + ' ' + x['director'] + ' ' + ' '.join(x['genres'])  \n",
    "\n",
    "# Create a new metadata feature\n",
    "movies['metadata'] = movies.apply(create_metadata, axis=1)\n",
    "\n",
    "movies.head()"
   ]
  },
  {
   "cell_type": "markdown",
   "metadata": {
    "deletable": false,
    "editable": false,
    "nbgrader": {
     "checksum": "39919defb484ff03bb5e8e87f8cb2969",
     "grade": false,
     "grade_id": "cell-41a980612e2d0ae2",
     "locked": true,
     "schema_version": 1,
     "solution": false
    }
   },
   "source": [
    "## Create the ratings DataFrame"
   ]
  },
  {
   "cell_type": "code",
   "execution_count": 4,
   "metadata": {
    "deletable": false,
    "editable": false,
    "nbgrader": {
     "checksum": "6d4bd4c5322aa88fec807afccf23faff",
     "grade": false,
     "grade_id": "cell-6b990cb516f33d73",
     "locked": true,
     "schema_version": 1,
     "solution": false
    }
   },
   "outputs": [
    {
     "data": {
      "text/html": [
       "<div>\n",
       "<style scoped>\n",
       "    .dataframe tbody tr th:only-of-type {\n",
       "        vertical-align: middle;\n",
       "    }\n",
       "\n",
       "    .dataframe tbody tr th {\n",
       "        vertical-align: top;\n",
       "    }\n",
       "\n",
       "    .dataframe thead th {\n",
       "        text-align: right;\n",
       "    }\n",
       "</style>\n",
       "<table border=\"1\" class=\"dataframe\">\n",
       "  <thead>\n",
       "    <tr style=\"text-align: right;\">\n",
       "      <th></th>\n",
       "      <th>user</th>\n",
       "      <th>item</th>\n",
       "      <th>rating</th>\n",
       "    </tr>\n",
       "  </thead>\n",
       "  <tbody>\n",
       "    <tr>\n",
       "      <th>0</th>\n",
       "      <td>0</td>\n",
       "      <td>2</td>\n",
       "      <td>3.5</td>\n",
       "    </tr>\n",
       "    <tr>\n",
       "      <th>1</th>\n",
       "      <td>0</td>\n",
       "      <td>29</td>\n",
       "      <td>3.5</td>\n",
       "    </tr>\n",
       "    <tr>\n",
       "      <th>2</th>\n",
       "      <td>0</td>\n",
       "      <td>32</td>\n",
       "      <td>3.5</td>\n",
       "    </tr>\n",
       "    <tr>\n",
       "      <th>3</th>\n",
       "      <td>0</td>\n",
       "      <td>47</td>\n",
       "      <td>3.5</td>\n",
       "    </tr>\n",
       "    <tr>\n",
       "      <th>4</th>\n",
       "      <td>0</td>\n",
       "      <td>50</td>\n",
       "      <td>3.5</td>\n",
       "    </tr>\n",
       "  </tbody>\n",
       "</table>\n",
       "</div>"
      ],
      "text/plain": [
       "   user  item  rating\n",
       "0     0     2     3.5\n",
       "1     0    29     3.5\n",
       "2     0    32     3.5\n",
       "3     0    47     3.5\n",
       "4     0    50     3.5"
      ]
     },
     "execution_count": 4,
     "metadata": {},
     "output_type": "execute_result"
    }
   ],
   "source": [
    "ratings = pd.read_csv(data_directory + 'ratings.csv')\n",
    "ratings = ratings.drop(columns=['timestamp'])\n",
    "ratings = ratings[(ratings['userId'] < 1000) & (ratings['movieId'] < 100) ]\n",
    "\n",
    "ratings = ratings[ratings['movieId'].isin(movies['movieId'])]\n",
    "\n",
    "## keep users with more than 2 ratings\n",
    "ratings_count = ratings.groupby(['userId', 'movieId']).size().groupby('userId').size()\n",
    "ratings_ok = ratings_count[ratings_count >= 2].reset_index()[['userId']]\n",
    "ratings = ratings.merge(ratings_ok, \n",
    "               how = 'right',\n",
    "               left_on = 'userId',\n",
    "               right_on = 'userId')\n",
    "\n",
    "\n",
    "\n",
    "userIds = ratings.userId.unique()\n",
    "userIds.sort()\n",
    "userId_to_userIDX = dict(zip(userIds, range(0, userIds.size)))\n",
    "\n",
    "ratings = pd.concat([ratings['userId'].map(userId_to_userIDX), ratings['movieId'], ratings['rating']], axis=1)\n",
    "ratings.columns = ['user', 'item', 'rating']\n",
    "\n",
    "ratings.head()"
   ]
  },
  {
   "cell_type": "markdown",
   "metadata": {
    "deletable": false,
    "editable": false,
    "nbgrader": {
     "checksum": "b87791a8e47b9946041d4d7a6d2af309",
     "grade": false,
     "grade_id": "cell-42c644e3fc158ff3",
     "locked": true,
     "schema_version": 1,
     "solution": false
    }
   },
   "source": [
    "## The `ContentBasedRecommender` class\n",
    "\n",
    "In the following, we will build functionality into the `ContentBasedRecommender` class. The initialization stores the various data sources. A helper function returns the titles of movies."
   ]
  },
  {
   "cell_type": "code",
   "execution_count": 5,
   "metadata": {
    "deletable": false,
    "editable": false,
    "nbgrader": {
     "checksum": "c68f87b62662e94bb240e3911e8124a1",
     "grade": false,
     "grade_id": "cell-c6ed85a9f17210d4",
     "locked": true,
     "schema_version": 1,
     "solution": false
    }
   },
   "outputs": [],
   "source": [
    "class ContentBasedRecommender:\n",
    "    \n",
    "    def __init__(self, ratings, items):\n",
    "        self.ratings= ratings\n",
    "        self.items = items\n",
    "        self.itemsIds = self.ratings.item.unique()\n",
    "        self.itemsIds.sort()\n",
    "        self.userIds = self.ratings.user.unique()\n",
    "        self.itemsIds.sort()\n",
    "        self.item_ids = self.items['movieId'].tolist()\n",
    "        \n",
    "    def get_movie_titles(self, ids):\n",
    "        return [ self.items[self.items['movieId'] == id]['title'].item() for id in ids] "
   ]
  },
  {
   "cell_type": "markdown",
   "metadata": {
    "deletable": false,
    "editable": false,
    "nbgrader": {
     "checksum": "35063214ab30a8ec84a64f863f5577fa",
     "grade": false,
     "grade_id": "cell-d7f210fa140c0019",
     "locked": true,
     "schema_version": 1,
     "solution": false
    }
   },
   "source": [
    "## Build the content of Items --- TO EDIT\n",
    "\n",
    "\n",
    "For the purpose of this assignment we consider two types of content.\n",
    "\n",
    "The first one, called *plot* content, is based on the movie's plot description, contained in attribute overview. \n",
    "\n",
    "The second one, called *meta* content, is based on the director, the actors, genres, and keywords for the movies.\n",
    "\n",
    "We will build TF-IDF vectors for the movies based on the two types of contents. For this purpose, we will use the `TfIdfVectorizer` module from `scikit-learn`.\n",
    "\n",
    "Steps to implement:\n",
    "\n",
    "1. Apply the `vectorizer` on the `plot` column of `self.items` to retrieve tf-idf vector for each movie. Store teh result into `self.plot_tfidf`\n",
    "2. Get the feature names from the `vectorizer` and store them in `self.plot_tfidf_tokens`.\n",
    "3. Apply the `vectorizer` on the `metadata` column of `self.items` to retrieve tf-idf vector for each movie. Store the result into `self.meta_tfidf`\n",
    "4. Get the feature names from the `vectorizer` and store them in `self.meta_tfidf_tokens`.\n"
   ]
  },
  {
   "cell_type": "code",
   "execution_count": 6,
   "metadata": {
    "deletable": false,
    "nbgrader": {
     "checksum": "91d3588af844990bfb9fbc1a5b284bc4",
     "grade": false,
     "grade_id": "build-item-contents-answer",
     "locked": false,
     "schema_version": 1,
     "solution": true
    }
   },
   "outputs": [],
   "source": [
    "def build_item_contents(self):\n",
    "    \n",
    "    vectorizer = TfidfVectorizer(stop_words='english') # Define a TF-IDF Vectorizer that removes all english stop words (e.g., 'the', 'a')\n",
    "    \n",
    "    # Apply Vectorizer on self.items['plot'], and store in self.plot_tfidf\n",
    "    self.plot_tfidf = vectorizer.fit_transform(self.items['plot'])\n",
    "    # get feature names from vectorizer and store them in self.plot_tfidf_tokens\n",
    "    self.plot_tfidf_tokens = vectorizer.get_feature_names()\n",
    "    # Apply vectorizer on self.items['metadata'], and store in self.meta_tfidf\n",
    "    self.meta_tfidf = vectorizer.fit_transform(self.items['metadata'])\n",
    "    # get feature names from vectorizer and store them in self.meta_tfidf_tokens\n",
    "    self.meta_tfidf_tokens = vectorizer.get_feature_names()\n",
    "    \n",
    "\n",
    "def set_content_type(self, profile_type='plot'):\n",
    "    if profile_type == 'plot':\n",
    "        self.tfidf = self.plot_tfidf\n",
    "        self.tfidf_tokens = self.plot_tfidf_tokens\n",
    "    else:\n",
    "        self.tfidf = self.meta_tfidf\n",
    "        self.tfidf_tokens = self.meta_tfidf_tokens"
   ]
  },
  {
   "cell_type": "markdown",
   "metadata": {
    "deletable": false,
    "editable": false,
    "nbgrader": {
     "checksum": "2a4fc150cb2a4cd97925b96ce471be20",
     "grade": false,
     "grade_id": "cell-d4538291958caf8a",
     "locked": true,
     "schema_version": 1,
     "solution": false
    }
   },
   "source": [
    "Add the functions to the class."
   ]
  },
  {
   "cell_type": "code",
   "execution_count": 7,
   "metadata": {
    "deletable": false,
    "editable": false,
    "nbgrader": {
     "checksum": "2374249d1116255ebd6d8768671a5549",
     "grade": false,
     "grade_id": "cell-0ec1c70ded425382",
     "locked": true,
     "schema_version": 1,
     "solution": false
    }
   },
   "outputs": [],
   "source": [
    "ContentBasedRecommender.build_item_contents = build_item_contents\n",
    "ContentBasedRecommender.set_content_type = set_content_type"
   ]
  },
  {
   "cell_type": "markdown",
   "metadata": {
    "deletable": false,
    "editable": false,
    "nbgrader": {
     "checksum": "7ac3db5aebac35d6b2af0f4bc60e19ba",
     "grade": false,
     "grade_id": "cell-c9d9cecdcd69c2bc",
     "locked": true,
     "schema_version": 1,
     "solution": false
    }
   },
   "source": [
    "Test the function. Show only the nonzero coordinates."
   ]
  },
  {
   "cell_type": "code",
   "execution_count": 8,
   "metadata": {
    "deletable": false,
    "editable": false,
    "nbgrader": {
     "checksum": "769d532184dc22d0bad0be2f688f9720",
     "grade": true,
     "grade_id": "build-item-contents-tests",
     "locked": true,
     "points": 1,
     "schema_version": 1,
     "solution": false
    }
   },
   "outputs": [
    {
     "name": "stdout",
     "output_type": "stream",
     "text": [
      "(959, 9247)\n",
      "[0.12730582 0.48323367 0.39884626 ... 0.19143247 0.19143247 0.19143247]\n",
      "(959, 3796)\n",
      "[0.26831389 0.38677839 0.36491753 ... 0.38397174 0.38397174 0.38397174]\n"
     ]
    }
   ],
   "source": [
    "cbr = ContentBasedRecommender(ratings, movies)\n",
    "\n",
    "cbr.build_item_contents()\n",
    "cbr.set_content_type()\n",
    "\n",
    "print(cbr.plot_tfidf.shape)\n",
    "print(cbr.plot_tfidf.data)\n",
    "\n",
    "print(cbr.meta_tfidf.shape)\n",
    "print(cbr.meta_tfidf.data)\n"
   ]
  },
  {
   "cell_type": "markdown",
   "metadata": {
    "deletable": false,
    "editable": false,
    "nbgrader": {
     "checksum": "b9892ea9569235890918d089e2268244",
     "grade": false,
     "grade_id": "cell-402176e452903fff",
     "locked": true,
     "schema_version": 1,
     "solution": false
    }
   },
   "source": [
    "EXPECTED OUTPUT: \n",
    "\n",
    "```\n",
    "(959, 9247)\n",
    "[0.12730582 0.48323367 0.39884626 ... 0.19143247 0.19143247 0.19143247]\n",
    "(959, 3796)\n",
    "[0.26831389 0.38677839 0.36491753 ... 0.38397174 0.38397174 0.38397174]\n",
    "```"
   ]
  },
  {
   "cell_type": "markdown",
   "metadata": {
    "deletable": false,
    "editable": false,
    "nbgrader": {
     "checksum": "c6aa3e3feb8c9b9fa7c4a5adb2fe488c",
     "grade": false,
     "grade_id": "cell-55837395e361105b",
     "locked": true,
     "schema_version": 1,
     "solution": false
    }
   },
   "source": [
    "The following function returns the vector representations for specified items. Vectors are stacked vertically."
   ]
  },
  {
   "cell_type": "code",
   "execution_count": 9,
   "metadata": {
    "deletable": false,
    "editable": false,
    "nbgrader": {
     "checksum": "81b3b6e109fe3b060914564933652935",
     "grade": false,
     "grade_id": "cell-b8e56daa80e51055",
     "locked": true,
     "schema_version": 1,
     "solution": false
    }
   },
   "outputs": [],
   "source": [
    "def get_item_vectors(self, item_ids):\n",
    "    item_idx = [self.item_ids.index(item_id) for item_id in item_ids]\n",
    "    item_vector = self.tfidf[item_idx]\n",
    "    return item_vector"
   ]
  },
  {
   "cell_type": "markdown",
   "metadata": {
    "deletable": false,
    "editable": false,
    "nbgrader": {
     "checksum": "f29a0e1594e64476b9715bf5f0c68618",
     "grade": false,
     "grade_id": "cell-3ee84e325aa42d7f",
     "locked": true,
     "schema_version": 1,
     "solution": false
    }
   },
   "source": [
    "Add the function to the class."
   ]
  },
  {
   "cell_type": "code",
   "execution_count": 10,
   "metadata": {
    "deletable": false,
    "editable": false,
    "nbgrader": {
     "checksum": "d89bbfc7b3ac5472ffe515a3e6c012d4",
     "grade": false,
     "grade_id": "cell-6f00b9e372bc281a",
     "locked": true,
     "schema_version": 1,
     "solution": false
    }
   },
   "outputs": [],
   "source": [
    "ContentBasedRecommender.get_item_vectors = get_item_vectors"
   ]
  },
  {
   "cell_type": "markdown",
   "metadata": {
    "deletable": false,
    "editable": false,
    "nbgrader": {
     "checksum": "ab69bdc4ee7f0965a189b04aaedbc74b",
     "grade": false,
     "grade_id": "cell-57f34ea6ac0e1264",
     "locked": true,
     "schema_version": 1,
     "solution": false
    }
   },
   "source": [
    "## Build the profiles of Users --- TO EDIT\n",
    "\n",
    "The following function computes the user profile as a vector that averages the tf-idf vectors of all items the user has rated, weighted by the ratings of the user. \n",
    "\n",
    "Steps to implement:\n",
    "\n",
    "1. Get the td-idf vectors corresponding to the items rated by the user.\n",
    "2. Compute a weighted average of these vectors, where each vector is weighted by the rating of the user to it. Store the output into the `user_profile` vector. Tips: You may want to use `scipy.sparse.csr_matrix.multiply` to multiply the sparse td-idf vectors with the user ratings. \n"
   ]
  },
  {
   "cell_type": "code",
   "execution_count": 11,
   "metadata": {
    "deletable": false,
    "nbgrader": {
     "checksum": "88131145b75aa464a7ec061ea763f3e5",
     "grade": false,
     "grade_id": "get-user-profile-answer",
     "locked": false,
     "schema_version": 1,
     "solution": true
    }
   },
   "outputs": [],
   "source": [
    "def get_user_profile(self, user_id, ratings):\n",
    "    user_rated_item_ids = np.array( ratings.loc[ ratings['user'] == user_id ]['item'] )\n",
    "    user_ratings = np.array( ratings.loc[ ratings['user'] == user_id ]['rating'] )\n",
    "    \n",
    "    # Get TF-IDF vectors corresponding to items rated by the user\n",
    "    user_tfidf = self.get_item_vectors( user_rated_item_ids )\n",
    "    # Calculate weights for ratings\n",
    "    user_ratings_sum = user_ratings.sum()\n",
    "    if user_ratings_sum != 0:\n",
    "        user_ratings /= user_ratings_sum\n",
    "    user_profile = user_tfidf.T.dot( user_ratings )\n",
    "    \n",
    "    # transform into CSR matrix\n",
    "    user_profile = sp.csr_matrix( user_profile, [1,user_profile.size] )\n",
    "    \n",
    "    # Normalize the vectors\n",
    "    user_profile = pp.normalize( user_profile )\n",
    "    \n",
    "    return user_profile"
   ]
  },
  {
   "cell_type": "markdown",
   "metadata": {
    "deletable": false,
    "editable": false,
    "nbgrader": {
     "checksum": "c8a2feb6243f143306c47240af609a36",
     "grade": false,
     "grade_id": "cell-66e54803106968de",
     "locked": true,
     "schema_version": 1,
     "solution": false
    }
   },
   "source": [
    "Add the function to the class."
   ]
  },
  {
   "cell_type": "code",
   "execution_count": 12,
   "metadata": {
    "deletable": false,
    "editable": false,
    "nbgrader": {
     "checksum": "e495b071b93f7569bbaa8eaf57cc7408",
     "grade": false,
     "grade_id": "cell-771ffff1628f5495",
     "locked": true,
     "schema_version": 1,
     "solution": false
    }
   },
   "outputs": [],
   "source": [
    "ContentBasedRecommender.get_user_profile = get_user_profile"
   ]
  },
  {
   "cell_type": "markdown",
   "metadata": {
    "deletable": false,
    "editable": false,
    "nbgrader": {
     "checksum": "3ce9d008670a752210b2076773f93c3a",
     "grade": false,
     "grade_id": "cell-ee1b04b18fe6073e",
     "locked": true,
     "schema_version": 1,
     "solution": false
    }
   },
   "source": [
    "Test the function. Show only the nonzero coordinates."
   ]
  },
  {
   "cell_type": "code",
   "execution_count": 13,
   "metadata": {
    "deletable": false,
    "editable": false,
    "nbgrader": {
     "checksum": "b743ef1d768e5aa86903f24d3d8b72ce",
     "grade": true,
     "grade_id": "get-user-profile-test",
     "locked": true,
     "points": 2,
     "schema_version": 1,
     "solution": false
    }
   },
   "outputs": [
    {
     "name": "stdout",
     "output_type": "stream",
     "text": [
      "[[0.05198875 0.05737849 0.05737849 0.06578048 0.07887771 0.07887771\n",
      "  0.14400008 0.13359635 0.05014868 0.05570668 0.05378515 0.05463073\n",
      "  0.06679817 0.05966707 0.10715418 0.12412508 0.06578048 0.05737849\n",
      "  0.06606548 0.07125637 0.09501268 0.07417306 0.06196849 0.10845538\n",
      "  0.06379571 0.07681808 0.07417306 0.1027266  0.05942462 0.0757395\n",
      "  0.06118151 0.04935083 0.07145868 0.11319656 0.04671291 0.07417306\n",
      "  0.07417306 0.07125637 0.06606548 0.05110664 0.0757395  0.05198875\n",
      "  0.06606548 0.0442194  0.07145868 0.04101556 0.07125637 0.04338523\n",
      "  0.06510325 0.1775305  0.06880285 0.06578048 0.03980115 0.07145868\n",
      "  0.07417306 0.06110326 0.05874736 0.05570668 0.07681808 0.06013355\n",
      "  0.12859832 0.05429319 0.07417306 0.06606548 0.13881009 0.05014868\n",
      "  0.0757395  0.0757395  0.07887771 0.05102264 0.06578048 0.07441951\n",
      "  0.06578048 0.05737849 0.0757395  0.13904182 0.15415399 0.0757395\n",
      "  0.06414056 0.04986057 0.05942462 0.11749471 0.0757395  0.06363503\n",
      "  0.03786354 0.05102264 0.05874736 0.08503428 0.07417306 0.05570668\n",
      "  0.13648206 0.06842138 0.04125971 0.0757395  0.05306877 0.08503428\n",
      "  0.06880285 0.06578048 0.06115068 0.06842138 0.06578048 0.06842138\n",
      "  0.05829674 0.06206254 0.13156539 0.06679817 0.07145868 0.05429319\n",
      "  0.06578048 0.05570668 0.07201191 0.08503428 0.11680625 0.07887771\n",
      "  0.07441951 0.05942462 0.11427411 0.06118151 0.05874736 0.11958887\n",
      "  0.08503428 0.08022811 0.08933356 0.06595685 0.06860188 0.07441951\n",
      "  0.08503428 0.08503428 0.14400008 0.11781031 0.08503428 0.0362648\n",
      "  0.0757395  0.12364006 0.03615293 0.06606548 0.15940184 0.12784601\n",
      "  0.04596717 0.07887771 0.05737849 0.03444142 0.08022811 0.06880285\n",
      "  0.05306877 0.06578048 0.07681808 0.06880285 0.15147901 0.06860188\n",
      "  0.07681808 0.11884924 0.06206254 0.05942462 0.03947596 0.03490385\n",
      "  0.04077101]]\n"
     ]
    }
   ],
   "source": [
    "user_profile = cbr.get_user_profile(0, ratings)\n",
    "print(user_profile[user_profile.nonzero()])\n"
   ]
  },
  {
   "cell_type": "markdown",
   "metadata": {
    "deletable": false,
    "editable": false,
    "nbgrader": {
     "checksum": "40b9bcee67e4a10f7a955607b2047e9c",
     "grade": false,
     "grade_id": "cell-f0fbce625ba32564",
     "locked": true,
     "schema_version": 1,
     "solution": false
    }
   },
   "source": [
    "EXPECTED OUTPUT: \n",
    "\n",
    "```\n",
    "[0.05198875 0.05737849 0.05737849 0.06578048 0.07887771 0.07887771\n",
    " 0.14400008 0.13359635 0.05014868 0.05570668 0.05378515 0.05463073\n",
    " 0.06679817 0.05966707 0.10715418 0.12412508 0.06578048 0.05737849\n",
    " 0.06606548 0.07125637 0.09501268 0.07417306 0.06196849 0.10845538\n",
    " 0.06379571 0.07681808 0.07417306 0.1027266  0.05942462 0.0757395\n",
    " 0.06118151 0.04935083 0.07145868 0.11319656 0.04671291 0.07417306\n",
    " 0.07417306 0.07125637 0.06606548 0.05110664 0.0757395  0.05198875\n",
    " 0.06606548 0.0442194  0.07145868 0.04101556 0.07125637 0.04338523\n",
    " 0.06510325 0.1775305  0.06880285 0.06578048 0.03980115 0.07145868\n",
    " 0.07417306 0.06110326 0.05874736 0.05570668 0.07681808 0.06013355\n",
    " 0.12859832 0.05429319 0.07417306 0.06606548 0.13881009 0.05014868\n",
    " 0.0757395  0.0757395  0.07887771 0.05102264 0.06578048 0.07441951\n",
    " 0.06578048 0.05737849 0.0757395  0.13904182 0.15415399 0.0757395\n",
    " 0.06414056 0.04986057 0.05942462 0.11749471 0.0757395  0.06363503\n",
    " 0.03786354 0.05102264 0.05874736 0.08503428 0.07417306 0.05570668\n",
    " 0.13648206 0.06842138 0.04125971 0.0757395  0.05306877 0.08503428\n",
    " 0.06880285 0.06578048 0.06115068 0.06842138 0.06578048 0.06842138\n",
    " 0.05829674 0.06206254 0.13156539 0.06679817 0.07145868 0.05429319\n",
    " 0.06578048 0.05570668 0.07201191 0.08503428 0.11680625 0.07887771\n",
    " 0.07441951 0.05942462 0.11427411 0.06118151 0.05874736 0.11958887\n",
    " 0.08503428 0.08022811 0.08933356 0.06595685 0.06860188 0.07441951\n",
    " 0.08503428 0.08503428 0.14400008 0.11781031 0.08503428 0.0362648\n",
    " 0.0757395  0.12364006 0.03615293 0.06606548 0.15940184 0.12784601\n",
    " 0.04596717 0.07887771 0.05737849 0.03444142 0.08022811 0.06880285\n",
    " 0.05306877 0.06578048 0.07681808 0.06880285 0.15147901 0.06860188\n",
    " 0.07681808 0.11884924 0.06206254 0.05942462 0.03947596 0.03490385\n",
    " 0.04077101]\n",
    "```"
   ]
  },
  {
   "cell_type": "markdown",
   "metadata": {
    "deletable": false,
    "editable": false,
    "nbgrader": {
     "checksum": "055ba2361a992134dd6195e765afeb06",
     "grade": false,
     "grade_id": "cell-258bb414dfd7336b",
     "locked": true,
     "schema_version": 1,
     "solution": false
    }
   },
   "source": [
    "Build the profiles of all users. Use only the positive rankings (postitive feedback) to determine weights."
   ]
  },
  {
   "cell_type": "code",
   "execution_count": 14,
   "metadata": {
    "deletable": false,
    "editable": false,
    "nbgrader": {
     "checksum": "4b899fbda1342b33849809471fa18516",
     "grade": false,
     "grade_id": "cell-1025ef640bfc2a09",
     "locked": true,
     "schema_version": 1,
     "solution": false
    }
   },
   "outputs": [],
   "source": [
    "def build_user_profiles(self):\n",
    "    positive_ratings = ratings[ratings.rating>3]\n",
    "    self.user_profiles = {}\n",
    "    for user_id in positive_ratings['user'].unique():\n",
    "        self.user_profiles[user_id] = self.get_user_profile(user_id, positive_ratings)\n",
    "    "
   ]
  },
  {
   "cell_type": "code",
   "execution_count": 15,
   "metadata": {
    "deletable": false,
    "editable": false,
    "nbgrader": {
     "checksum": "a00a6f1a34317346c007541f30df201f",
     "grade": false,
     "grade_id": "cell-23362adab2b7e282",
     "locked": true,
     "schema_version": 1,
     "solution": false
    }
   },
   "outputs": [],
   "source": [
    "ContentBasedRecommender.build_user_profiles = build_user_profiles"
   ]
  },
  {
   "cell_type": "code",
   "execution_count": 16,
   "metadata": {
    "deletable": false,
    "editable": false,
    "nbgrader": {
     "checksum": "b805631a4532c3111cd2e7cb36530ca1",
     "grade": false,
     "grade_id": "cell-05c058e734542d79",
     "locked": true,
     "schema_version": 1,
     "solution": false
    }
   },
   "outputs": [],
   "source": [
    "cbr.build_user_profiles()"
   ]
  },
  {
   "cell_type": "markdown",
   "metadata": {
    "deletable": false,
    "editable": false,
    "nbgrader": {
     "checksum": "bd560dbaa4a90a9bee8c4ffd9f32977f",
     "grade": false,
     "grade_id": "cell-c9fe4b3cebb541c6",
     "locked": true,
     "schema_version": 1,
     "solution": false
    }
   },
   "source": [
    "## Make Recommendations --- TO EDIT\n",
    "\n",
    "\n",
    "The following function recommends topN items to the user based on her/his profile. The recommendations should exclude items already rated by the user.\n",
    "\n",
    "Steps to implement:\n",
    "1. Retrieve the user profile\n",
    "2. Compute the cosine similarity between the user profile and each td-idf vector, and store it into array `sims`. Tips: Use `linear_kernel` from scikit-learn since to take the inner product, since all vectors are normalized. Also, flatten the output at the end.\n",
    "3. Identify the indices in `sims` that identify the `topN` + `num_rated` largest similarities. This is to guarantee we can get exactly `topN` recommendations. Tips: `a[::-1]` returns the reverse of list `a`. You may want to use the `numpy.argsort` method.\n",
    "4. Retrieve the item_ids from `self.item_ids` that correspond to the indices found.\n",
    "5. Exclude those item_ids that are in `user_rated_item_ids`. Return the remaining as the recommendations. Note that the recommended items should be sorted from most to least similar to user profile.\n"
   ]
  },
  {
   "cell_type": "code",
   "execution_count": 17,
   "metadata": {
    "deletable": false,
    "nbgrader": {
     "checksum": "547cc35d6d5e090406f897d02034d3d9",
     "grade": false,
     "grade_id": "recommend-answer",
     "locked": false,
     "schema_version": 1,
     "solution": true
    }
   },
   "outputs": [],
   "source": [
    "def recommend(self, user_id, topN=20):\n",
    "    user_rated_item_ids = np.array( self.ratings.loc[ self.ratings['user'] == user_id ]['item'] )\n",
    "    num_rated = len(user_rated_item_ids)\n",
    "    \n",
    "    # get user profile\n",
    "    user_profile = self.user_profiles[user_id]\n",
    "\n",
    "    # calculate similarities (linear kernel)\n",
    "    sims = linear_kernel( self.tfidf, user_profile ).flatten()\n",
    "    \n",
    "    # get indices by order\n",
    "    a = np.argsort( sims )[::-1]\n",
    "    \n",
    "    # shorten to topN + num_rated\n",
    "    a = a[:topN+num_rated]\n",
    "    \n",
    "    recommendations = [ self.item_ids[i] for i in a if self.item_ids[i] not in user_rated_item_ids ]\n",
    "    recommendations = recommendations[0:topN]\n",
    "    return recommendations\n",
    "    "
   ]
  },
  {
   "cell_type": "markdown",
   "metadata": {
    "deletable": false,
    "editable": false,
    "nbgrader": {
     "checksum": "a659747336796088fb5201ce973172d7",
     "grade": false,
     "grade_id": "cell-558e0390c36814ad",
     "locked": true,
     "schema_version": 1,
     "solution": false
    }
   },
   "source": [
    "Add the function to the class."
   ]
  },
  {
   "cell_type": "code",
   "execution_count": 18,
   "metadata": {
    "deletable": false,
    "editable": false,
    "nbgrader": {
     "checksum": "3d842c4252f983dce7552eea5842f7f9",
     "grade": false,
     "grade_id": "cell-8b3a99aa4544ec2a",
     "locked": true,
     "schema_version": 1,
     "solution": false
    }
   },
   "outputs": [],
   "source": [
    "ContentBasedRecommender.recommend = recommend"
   ]
  },
  {
   "cell_type": "markdown",
   "metadata": {
    "deletable": false,
    "editable": false,
    "nbgrader": {
     "checksum": "e9c6ec47b16ab21b3642828d9ea4acc9",
     "grade": false,
     "grade_id": "cell-af8810ded6dd8b81",
     "locked": true,
     "schema_version": 1,
     "solution": false
    }
   },
   "source": [
    "Test the function."
   ]
  },
  {
   "cell_type": "code",
   "execution_count": 19,
   "metadata": {
    "deletable": false,
    "editable": false,
    "nbgrader": {
     "checksum": "614ed6a8d44505a3746ae814c696e43f",
     "grade": true,
     "grade_id": "recommend-test",
     "locked": true,
     "points": 2,
     "schema_version": 1,
     "solution": false
    }
   },
   "outputs": [
    {
     "name": "stdout",
     "output_type": "stream",
     "text": [
      "[481, 598, 126, 634, 22, 292, 9, 616, 628, 636, 664, 315, 170, 996, 263, 165, 880, 958, 671, 648]\n"
     ]
    }
   ],
   "source": [
    "recs = cbr.recommend(0)\n",
    "print(recs)\n"
   ]
  },
  {
   "cell_type": "markdown",
   "metadata": {
    "deletable": false,
    "editable": false,
    "nbgrader": {
     "checksum": "fdedc9b1f29e6cc07d90a7c1ca1601a4",
     "grade": false,
     "grade_id": "cell-a81e9b5540f1cf13",
     "locked": true,
     "schema_version": 1,
     "solution": false
    }
   },
   "source": [
    "EXPECTED OUTPUT: \n",
    "\n",
    "```\n",
    "<class 'numpy.ndarray'>\n",
    "[481, 598, 126, 634, 22, 292, 9, 616, 628, 636, 664, 315, 170, 996, 263, 165, 880, 958, 671, 648]\n",
    "```"
   ]
  },
  {
   "cell_type": "markdown",
   "metadata": {
    "deletable": false,
    "editable": false,
    "nbgrader": {
     "checksum": "57d04d4debc49add24460fce50b42de1",
     "grade": false,
     "grade_id": "cell-0c1301ed0fdbbf36",
     "locked": true,
     "schema_version": 1,
     "solution": false
    }
   },
   "source": [
    "Show the movie titles of the recommendations."
   ]
  },
  {
   "cell_type": "code",
   "execution_count": 20,
   "metadata": {
    "deletable": false,
    "editable": false,
    "nbgrader": {
     "checksum": "2df7682553322fa1a162729e4775951e",
     "grade": false,
     "grade_id": "cell-33be581eb2920314",
     "locked": true,
     "schema_version": 1,
     "solution": false
    }
   },
   "outputs": [
    {
     "data": {
      "text/plain": [
       "['Kalifornia (1993)',\n",
       " 'Window to Paris (Okno v Parizh) (1994)',\n",
       " 'NeverEnding Story III, The (1994)',\n",
       " 'Theodore Rex (1995)',\n",
       " 'Copycat (1995)',\n",
       " 'Outbreak (1995)',\n",
       " 'Sudden Death (1995)',\n",
       " 'Aristocats, The (1970)',\n",
       " 'Primal Fear (1996)',\n",
       " 'Frisk (1995)',\n",
       " 'Faithful (1996)',\n",
       " 'Specialist, The (1994)',\n",
       " 'Hackers (1995)',\n",
       " 'Last Man Standing (1996)',\n",
       " 'Ladybird Ladybird (1994)',\n",
       " 'Die Hard: With a Vengeance (1995)',\n",
       " 'Island of Dr. Moreau, The (1996)',\n",
       " 'Lady of Burlesque (1943)',\n",
       " 'Mystery Science Theater 3000: The Movie (1996)',\n",
       " 'Mission: Impossible (1996)']"
      ]
     },
     "metadata": {},
     "output_type": "display_data"
    }
   ],
   "source": [
    "display(cbr.get_movie_titles(recs))"
   ]
  },
  {
   "cell_type": "code",
   "execution_count": 21,
   "metadata": {},
   "outputs": [],
   "source": [
    "# feel free to use this field for additional tests"
   ]
  },
  {
   "cell_type": "code",
   "execution_count": 22,
   "metadata": {},
   "outputs": [],
   "source": [
    "# feel free to use this field for additional tests"
   ]
  },
  {
   "cell_type": "code",
   "execution_count": 23,
   "metadata": {},
   "outputs": [],
   "source": [
    "# feel free to use this field for additional tests"
   ]
  },
  {
   "cell_type": "code",
   "execution_count": 24,
   "metadata": {},
   "outputs": [],
   "source": [
    "# feel free to use this field for additional tests"
   ]
  },
  {
   "cell_type": "code",
   "execution_count": 25,
   "metadata": {},
   "outputs": [],
   "source": [
    "# feel free to use this field for additional tests"
   ]
  }
 ],
 "metadata": {
  "kernelspec": {
   "display_name": "Python 3",
   "language": "python",
   "name": "python3"
  },
  "language_info": {
   "codemirror_mode": {
    "name": "ipython",
    "version": 3
   },
   "file_extension": ".py",
   "mimetype": "text/x-python",
   "name": "python",
   "nbconvert_exporter": "python",
   "pygments_lexer": "ipython3",
   "version": "3.6.8"
  }
 },
 "nbformat": 4,
 "nbformat_minor": 2
}
